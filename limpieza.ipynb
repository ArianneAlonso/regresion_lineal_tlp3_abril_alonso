{
 "cells": [
  {
   "cell_type": "code",
   "execution_count": 2,
   "id": "fe2e4ec7",
   "metadata": {},
   "outputs": [],
   "source": [
    "import pandas as pd\n",
    "import matplotlib.pyplot as plt\n",
    "from sklearn.linear_model import LinearRegression\n",
    "from sklearn.model_selection import train_test_split"
   ]
  },
  {
   "cell_type": "code",
   "execution_count": 3,
   "id": "709bc4c5",
   "metadata": {},
   "outputs": [
    {
     "data": {
      "text/html": [
       "<div>\n",
       "<style scoped>\n",
       "    .dataframe tbody tr th:only-of-type {\n",
       "        vertical-align: middle;\n",
       "    }\n",
       "\n",
       "    .dataframe tbody tr th {\n",
       "        vertical-align: top;\n",
       "    }\n",
       "\n",
       "    .dataframe thead th {\n",
       "        text-align: right;\n",
       "    }\n",
       "</style>\n",
       "<table border=\"1\" class=\"dataframe\">\n",
       "  <thead>\n",
       "    <tr style=\"text-align: right;\">\n",
       "      <th></th>\n",
       "      <th>Home ID</th>\n",
       "      <th>Appliance Type</th>\n",
       "      <th>Energy Consumption (kWh)</th>\n",
       "      <th>Time</th>\n",
       "      <th>Date</th>\n",
       "      <th>Outdoor Temperature (°C)</th>\n",
       "      <th>Season</th>\n",
       "      <th>Household Size</th>\n",
       "    </tr>\n",
       "  </thead>\n",
       "  <tbody>\n",
       "    <tr>\n",
       "      <th>0</th>\n",
       "      <td>94</td>\n",
       "      <td>Fridge</td>\n",
       "      <td>0.20</td>\n",
       "      <td>21:12</td>\n",
       "      <td>2023-12-02</td>\n",
       "      <td>-1.0</td>\n",
       "      <td>Fall</td>\n",
       "      <td>2</td>\n",
       "    </tr>\n",
       "    <tr>\n",
       "      <th>1</th>\n",
       "      <td>435</td>\n",
       "      <td>Oven</td>\n",
       "      <td>0.23</td>\n",
       "      <td>20:11</td>\n",
       "      <td>2023-08-06</td>\n",
       "      <td>31.1</td>\n",
       "      <td>Summer</td>\n",
       "      <td>5</td>\n",
       "    </tr>\n",
       "    <tr>\n",
       "      <th>2</th>\n",
       "      <td>466</td>\n",
       "      <td>Dishwasher</td>\n",
       "      <td>0.32</td>\n",
       "      <td>06:39</td>\n",
       "      <td>2023-11-21</td>\n",
       "      <td>21.3</td>\n",
       "      <td>Fall</td>\n",
       "      <td>3</td>\n",
       "    </tr>\n",
       "    <tr>\n",
       "      <th>3</th>\n",
       "      <td>496</td>\n",
       "      <td>Heater</td>\n",
       "      <td>3.92</td>\n",
       "      <td>21:56</td>\n",
       "      <td>2023-01-21</td>\n",
       "      <td>-4.2</td>\n",
       "      <td>Winter</td>\n",
       "      <td>1</td>\n",
       "    </tr>\n",
       "    <tr>\n",
       "      <th>4</th>\n",
       "      <td>137</td>\n",
       "      <td>Microwave</td>\n",
       "      <td>0.44</td>\n",
       "      <td>04:31</td>\n",
       "      <td>2023-08-26</td>\n",
       "      <td>34.5</td>\n",
       "      <td>Summer</td>\n",
       "      <td>5</td>\n",
       "    </tr>\n",
       "  </tbody>\n",
       "</table>\n",
       "</div>"
      ],
      "text/plain": [
       "   Home ID Appliance Type  Energy Consumption (kWh)   Time        Date  \\\n",
       "0       94         Fridge                      0.20  21:12  2023-12-02   \n",
       "1      435           Oven                      0.23  20:11  2023-08-06   \n",
       "2      466     Dishwasher                      0.32  06:39  2023-11-21   \n",
       "3      496         Heater                      3.92  21:56  2023-01-21   \n",
       "4      137      Microwave                      0.44  04:31  2023-08-26   \n",
       "\n",
       "   Outdoor Temperature (°C)  Season  Household Size  \n",
       "0                      -1.0    Fall               2  \n",
       "1                      31.1  Summer               5  \n",
       "2                      21.3    Fall               3  \n",
       "3                      -4.2  Winter               1  \n",
       "4                      34.5  Summer               5  "
      ]
     },
     "execution_count": 3,
     "metadata": {},
     "output_type": "execute_result"
    }
   ],
   "source": [
    "df = pd.read_csv(\"smart_home_energy_consumption_large.csv\")\n",
    "df.head()"
   ]
  },
  {
   "cell_type": "code",
   "execution_count": 4,
   "id": "a78fcdbc",
   "metadata": {},
   "outputs": [
    {
     "name": "stdout",
     "output_type": "stream",
     "text": [
      "<class 'pandas.core.frame.DataFrame'>\n",
      "RangeIndex: 100000 entries, 0 to 99999\n",
      "Data columns (total 8 columns):\n",
      " #   Column                    Non-Null Count   Dtype  \n",
      "---  ------                    --------------   -----  \n",
      " 0   Home ID                   100000 non-null  int64  \n",
      " 1   Appliance Type            100000 non-null  object \n",
      " 2   Energy Consumption (kWh)  100000 non-null  float64\n",
      " 3   Time                      100000 non-null  object \n",
      " 4   Date                      100000 non-null  object \n",
      " 5   Outdoor Temperature (°C)  100000 non-null  float64\n",
      " 6   Season                    100000 non-null  object \n",
      " 7   Household Size            100000 non-null  int64  \n",
      "dtypes: float64(2), int64(2), object(4)\n",
      "memory usage: 6.1+ MB\n"
     ]
    }
   ],
   "source": [
    "df.info()"
   ]
  }
 ],
 "metadata": {
  "kernelspec": {
   "display_name": "venv",
   "language": "python",
   "name": "python3"
  },
  "language_info": {
   "codemirror_mode": {
    "name": "ipython",
    "version": 3
   },
   "file_extension": ".py",
   "mimetype": "text/x-python",
   "name": "python",
   "nbconvert_exporter": "python",
   "pygments_lexer": "ipython3",
   "version": "3.12.9"
  }
 },
 "nbformat": 4,
 "nbformat_minor": 5
}
